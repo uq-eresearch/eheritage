{
 "metadata": {
  "name": "",
  "signature": "sha256:be62da0864b72c2bbf71755a6fa576da79904ee08648f22cdd5abd83c9e7c3d9"
 },
 "nbformat": 3,
 "nbformat_minor": 0,
 "worksheets": [
  {
   "cells": [
    {
     "cell_type": "heading",
     "level": 1,
     "metadata": {},
     "source": [
      "Experiments with Nectar Object Store and boto.s3"
     ]
    },
    {
     "cell_type": "markdown",
     "metadata": {},
     "source": [
      "Some experiments with accessing the Nectar Object store using the boto/s3 library.\n",
      "\n",
      "First we need to import boto, get the access keys, and initialise a connection."
     ]
    },
    {
     "cell_type": "code",
     "collapsed": false,
     "input": [
      "from boto.s3.connection import S3Connection\n",
      "from boto.s3.key import Key\n",
      "import boto,os,sys\n",
      "\n",
      "connection = S3Connection(\n",
      "    aws_access_key_id=os.environ[\"EC2_ACCESS_KEY\"],\n",
      "    aws_secret_access_key=os.environ[\"EC2_SECRET_KEY\"],\n",
      "    port=8888,\n",
      "    host='swift.rc.nectar.org.au',\n",
      "    is_secure=True,\n",
      "    calling_format=boto.s3.connection.OrdinaryCallingFormat())\n"
     ],
     "language": "python",
     "metadata": {},
     "outputs": [],
     "prompt_number": 35
    },
    {
     "cell_type": "markdown",
     "metadata": {},
     "source": [
      "We need to use `validate=False` in the following call, and let it fail later, because the OpenStack/s3 endpoint is missing a bunch of functionality. In this case, I suspect it can't handle a `HEAD` request to a bucket."
     ]
    },
    {
     "cell_type": "code",
     "collapsed": false,
     "input": [
      "backups = connection.get_bucket('aehp_backups', validate=False)\n",
      "for key in backups:\n",
      "    print key.name"
     ],
     "language": "python",
     "metadata": {},
     "outputs": [
      {
       "output_type": "stream",
       "stream": "stdout",
       "text": [
        "eheritage-backup-08-09-2014.tar.gz\n",
        "heritage-register.xml\n"
       ]
      }
     ],
     "prompt_number": 36
    },
    {
     "cell_type": "heading",
     "level": 2,
     "metadata": {},
     "source": [
      "How to use requests to snapshot Elasticsearch"
     ]
    },
    {
     "cell_type": "markdown",
     "metadata": {},
     "source": [
      "Make sure that elasticsearch is running first, if using docker you can do:\n",
      "\n",
      "    docker run -d -p 9200:9200 -p 9300:9300 -v ~/tmp/elasticsearch_data:/data \\\n",
      "    dockerfile/elasticsearch /elasticsearch/bin/elasticsearch -Des.config=/data/elasticsearch.yml"
     ]
    },
    {
     "cell_type": "code",
     "collapsed": false,
     "input": [
      "import requests\n",
      "import json"
     ],
     "language": "python",
     "metadata": {},
     "outputs": [],
     "prompt_number": 69
    },
    {
     "cell_type": "heading",
     "level": 3,
     "metadata": {},
     "source": [
      "Create an Elasticsearch repository to snapshot into"
     ]
    },
    {
     "cell_type": "code",
     "collapsed": false,
     "input": [
      "payload = {\"type\": \"fs\", \"settings\": {\"location\":\"/data/snapshots/eheritage_backup\"}}\n",
      "r = requests.put('http://localhost:9200/_snapshot/eheritage_backup', data=json.dumps(payload))\n",
      "print r.status_code\n",
      "print r.text"
     ],
     "language": "python",
     "metadata": {},
     "outputs": [
      {
       "output_type": "stream",
       "stream": "stdout",
       "text": [
        "200\n",
        "{\"acknowledged\":true}\n"
       ]
      }
     ],
     "prompt_number": 58
    },
    {
     "cell_type": "heading",
     "level": 3,
     "metadata": {},
     "source": [
      "Check that the repository was created"
     ]
    },
    {
     "cell_type": "code",
     "collapsed": false,
     "input": [
      "r = requests.get('http://localhost:9200/_snapshot')\n",
      "r.json()"
     ],
     "language": "python",
     "metadata": {},
     "outputs": [
      {
       "metadata": {},
       "output_type": "pyout",
       "prompt_number": 85,
       "text": [
        "{u'eheritage_backup': {u'settings': {u'location': u'/data/snapshots/eheritage_backup'},\n",
        "  u'type': u'fs'}}"
       ]
      }
     ],
     "prompt_number": 85
    },
    {
     "cell_type": "code",
     "collapsed": false,
     "input": [
      "payload = {\n",
      "    \"indices\": \"eheritage_v3\",\n",
      "    \"ignore_unavailable\": \"true\",\n",
      "    \"include_global_state\": False\n",
      "}\n",
      "url = 'http://localhost:9200/_snapshot/eheritage_backup/snapshot_1?wait_for_completion=true'\n",
      "r = requests.put(url, data=json.dumps(payload))\n",
      "print r.status_code\n",
      "print r.text"
     ],
     "language": "python",
     "metadata": {},
     "outputs": [
      {
       "output_type": "stream",
       "stream": "stdout",
       "text": [
        "400\n",
        "{\"error\":\"InvalidSnapshotNameException[[eheritage_backup:snapshot_1] Invalid snapshot name [snapshot_1], snapshot with such name already exists]\",\"status\":400}\n"
       ]
      }
     ],
     "prompt_number": 90
    },
    {
     "cell_type": "heading",
     "level": 3,
     "metadata": {},
     "source": [
      "List snapshots"
     ]
    },
    {
     "cell_type": "code",
     "collapsed": false,
     "input": [
      "url = 'http://localhost:9200/_snapshot/eheritage_backup/_all'\n",
      "r = requests.get(url)\n",
      "print r.status_code\n",
      "print r.json()"
     ],
     "language": "python",
     "metadata": {},
     "outputs": [
      {
       "output_type": "stream",
       "stream": "stdout",
       "text": [
        "200\n",
        "{u'snapshots': [{u'duration_in_millis': 176, u'start_time': u'2014-09-10T06:18:49.373Z', u'shards': {u'successful': 0, u'failed': 0, u'total': 0}, u'end_time_in_millis': 1410329929549, u'state': u'SUCCESS', u'snapshot': u'snapshot_1', u'end_time': u'2014-09-10T06:18:49.549Z', u'indices': [], u'failures': [], u'start_time_in_millis': 1410329929373}]}\n"
       ]
      }
     ],
     "prompt_number": 91
    },
    {
     "cell_type": "heading",
     "level": 3,
     "metadata": {},
     "source": [
      "Delete the snapshot"
     ]
    },
    {
     "cell_type": "code",
     "collapsed": false,
     "input": [
      "url = 'http://localhost:9200/_snapshot/eheritage_backup/snapshot_1'\n",
      "r = requests.delete(url)\n",
      "print r.status_code\n",
      "print r.json()"
     ],
     "language": "python",
     "metadata": {},
     "outputs": [
      {
       "output_type": "stream",
       "stream": "stdout",
       "text": [
        "404\n",
        "{u'status': 404, u'error': u'SnapshotMissingException[[eheritage_backup:snapshot_1] is missing]; nested: FileNotFoundException[/data/snapshots/eheritage_backup/snapshot-snapshot_1 (No such file or directory)]; '}\n"
       ]
      }
     ],
     "prompt_number": 87
    },
    {
     "cell_type": "heading",
     "level": 2,
     "metadata": {},
     "source": [
      "How to create a tar.gz"
     ]
    },
    {
     "cell_type": "code",
     "collapsed": false,
     "input": [
      "import tarfile\n",
      "def make_tarfile(output_filename, source_dir):\n",
      "    with tarfile.open(output_filename, \"w:gz\") as tar:\n",
      "        tar.add(source_dir, arcname=os.path.basename(source_dir))"
     ],
     "language": "python",
     "metadata": {},
     "outputs": [],
     "prompt_number": 43
    },
    {
     "cell_type": "markdown",
     "metadata": {},
     "source": [
      "This expression $\\sqrt{3x-1}+(1+x)^2$ is an example of a TeX"
     ]
    },
    {
     "cell_type": "markdown",
     "metadata": {},
     "source": [
      "\\begin{equation*} P(E) = {n \\choose k} p^k (1-p)^{ n-k} \\end{equation*}"
     ]
    }
   ],
   "metadata": {}
  }
 ]
}